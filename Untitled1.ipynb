{
 "cells": [
  {
   "cell_type": "markdown",
   "id": "742d8783-395c-4165-b4b2-a15d692e160b",
   "metadata": {
    "jp-MarkdownHeadingCollapsed": true,
    "tags": []
   },
   "source": [
    "# My Jupyter Notebook on IBM Watson Studio"
   ]
  },
  {
   "cell_type": "markdown",
   "id": "ecc55d4e-3f78-47ca-914c-ea5c984c1280",
   "metadata": {},
   "source": [
    "**Manthan Mehar** \n",
    " <br> Gaduate Student"
   ]
  },
  {
   "cell_type": "markdown",
   "id": "35eab7f0-c229-4559-b0d4-dadefef81d3a",
   "metadata": {},
   "source": [
    "I am interested in data science because i want use this tools and techniques to make data driven business decisions."
   ]
  },
  {
   "cell_type": "markdown",
   "id": "a6761c89-5920-462a-9658-a775519c6c5a",
   "metadata": {},
   "source": [
    "### Here iam explaning you about \"Aryabhattas\" inovation that is '0'."
   ]
  },
  {
   "cell_type": "code",
   "execution_count": 25,
   "id": "0112e191-da4a-44a5-89eb-519e7597f0f5",
   "metadata": {},
   "outputs": [
    {
     "name": "stdout",
     "output_type": "stream",
     "text": [
      "multiplying 98765786 x 0 = ?\n"
     ]
    },
    {
     "data": {
      "text/plain": [
       "0"
      ]
     },
     "execution_count": 25,
     "metadata": {},
     "output_type": "execute_result"
    }
   ],
   "source": [
    "print('multiplying 98765786 x 0 = ?')\n",
    "98765786*0"
   ]
  },
  {
   "cell_type": "markdown",
   "id": "7c1a05f7-413e-463f-a713-415bcdea0d47",
   "metadata": {},
   "source": [
    "1. Numbered item\n",
    "2. Numbered item\n",
    "\n",
    "__[MY LinkdIN](https://www.linkedin.com/in/manthanmehar1/)__\n",
    "\n",
    "~~Lets go to the next steps to become DATA Scientist~~\n"
   ]
  }
 ],
 "metadata": {
  "kernelspec": {
   "display_name": "Python",
   "language": "python",
   "name": "conda-env-python-py"
  },
  "language_info": {
   "codemirror_mode": {
    "name": "ipython",
    "version": 3
   },
   "file_extension": ".py",
   "mimetype": "text/x-python",
   "name": "python",
   "nbconvert_exporter": "python",
   "pygments_lexer": "ipython3",
   "version": "3.7.12"
  }
 },
 "nbformat": 4,
 "nbformat_minor": 5
}
